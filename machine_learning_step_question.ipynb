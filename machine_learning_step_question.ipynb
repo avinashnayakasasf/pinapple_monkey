{
  "nbformat": 4,
  "nbformat_minor": 0,
  "metadata": {
    "colab": {
      "provenance": [],
      "authorship_tag": "ABX9TyNQDjcP1vQlSTjIXwwucc+n",
      "include_colab_link": true
    },
    "kernelspec": {
      "name": "python3",
      "display_name": "Python 3"
    },
    "language_info": {
      "name": "python"
    }
  },
  "cells": [
    {
      "cell_type": "markdown",
      "metadata": {
        "id": "view-in-github",
        "colab_type": "text"
      },
      "source": [
        "<a href=\"https://colab.research.google.com/github/avinashnayakasasf/pinapple_monkey/blob/main/machine_learning_step_question.ipynb\" target=\"_parent\"><img src=\"https://colab.research.google.com/assets/colab-badge.svg\" alt=\"Open In Colab\"/></a>"
      ]
    },
    {
      "cell_type": "markdown",
      "source": [
        "Day 1 - Task 1:\n",
        "\n",
        "A company conducted a survey to gather information about the salaries of its employees. The data collected is as follows:\n",
        "\n",
        "$35,000, $40,000, $45,000, $50,000, $55,000, $60,000, $65,000, $70,000, $75,000, $80,000\n",
        "\n",
        "Calculate the mean, median, mode, range, variance, and standard deviation of the salary data.\n"
      ],
      "metadata": {
        "id": "kaevDoacLT-W"
      }
    },
    {
      "cell_type": "code",
      "source": [
        "import pandas as pd\n",
        "salaries = [35000, 40000, 45000, 50000, 55000, 60000, 65000, 70000, 75000, 80000]\n",
        "df =pd.DataFrame(salaries,columns=[\"Salary\"])\n",
        "mean_salary = df[\"Salary\"].mean()\n",
        "median_salary = df[\"Salary\"].median()\n",
        "mode_salary = df[\"Salary\"].mode().iloc[0]\n",
        "range_salary = df[\"Salary\"].max() - df[\"Salary\"].min()\n",
        "variance_salary = df[\"Salary\"].var()\n",
        "std_salary = df[\"Salary\"].std()\n",
        "\n",
        "print(\"Mean salary:\", mean_salary)\n",
        "print(\"Medain salary:\", median_salary)\n",
        "print(\"Mode salary:\", mode_salary)\n",
        "print(\"Range:\", range_salary)\n",
        "print(\"Variance salary\", variance_salary)\n",
        "print(\"Standard deviation\", std_salary)"
      ],
      "metadata": {
        "colab": {
          "base_uri": "https://localhost:8080/"
        },
        "id": "RoFIxq7p-W7a",
        "outputId": "57d3a0aa-d8ee-4cab-eed5-dc81847b00d6"
      },
      "execution_count": null,
      "outputs": [
        {
          "output_type": "stream",
          "name": "stdout",
          "text": [
            "Mean salary: 57500.0\n",
            "Medain salary: 57500.0\n",
            "Mode salary: 35000\n",
            "Range: 45000\n",
            "Variance salary 229166666.66666666\n",
            "Standard deviation 15138.251770487457\n"
          ]
        }
      ]
    },
    {
      "cell_type": "markdown",
      "source": [
        "Day 1 - Task 2 :\n",
        "\n",
        "You are working on a machine learning project to predict customer churn for a telecommunications company. One of the features in the dataset is the customer's preferred payment method, which is a categorical variable with the following values:\n",
        "\n",
        "\n",
        "Credit card\n",
        "\n",
        "Debit card\n",
        "\n",
        "Bank transfer\n",
        "\n",
        "Electronic wallet"
      ],
      "metadata": {
        "id": "xK2g04_XL_G5"
      }
    },
    {
      "cell_type": "code",
      "source": [
        "# first we have to do \"Data Preprocessing\".\n",
        "# since, \"customer payment\" method dataset have no order so, we use one-hot-encoding.\n",
        "import numpy as np\n",
        "import pandas as pd\n",
        "data = pd.DataFrame(\n",
        "    {\n",
        "        \"prefered_payment_method\":\n",
        "         [\n",
        "            \"credit_card\",\"Debit_card\",\"Bank_transfer\",\"Electronic_wallet\"\n",
        "            ]\n",
        "        }\n",
        "    )\n",
        "print(data)"
      ],
      "metadata": {
        "colab": {
          "base_uri": "https://localhost:8080/"
        },
        "id": "a5dqUpPvMDhq",
        "outputId": "cf826a03-ce45-46da-e5ba-2fb19d898eee"
      },
      "execution_count": null,
      "outputs": [
        {
          "output_type": "stream",
          "name": "stdout",
          "text": [
            "  prefered_payment_method\n",
            "0             credit_card\n",
            "1              Debit_card\n",
            "2           Bank_transfer\n",
            "3       Electronic_wallet\n"
          ]
        }
      ]
    },
    {
      "cell_type": "code",
      "source": [
        "# Perform \"OneHotEncoding\" for data prepositioning\n",
        "from sklearn.preprocessing import OneHotEncoder\n",
        "data_encoded=pd.get_dummies(data[\"prefered_payment_method\"],drop_first= True)\n",
        "print(data_encoded)"
      ],
      "metadata": {
        "colab": {
          "base_uri": "https://localhost:8080/"
        },
        "id": "IUadmWu5en5V",
        "outputId": "2ed25111-6204-4140-b8a0-c354ec34e4e8"
      },
      "execution_count": null,
      "outputs": [
        {
          "output_type": "stream",
          "name": "stdout",
          "text": [
            "   Debit_card  Electronic_wallet  credit_card\n",
            "0           0                  0            1\n",
            "1           1                  0            0\n",
            "2           0                  0            0\n",
            "3           0                  1            0\n"
          ]
        }
      ]
    },
    {
      "cell_type": "code",
      "source": [
        "# Concatenate the original dataframe with the encoded columns\n",
        "encoded_data=pd.concat([data,data_encoded],axis=1)\n",
        "print(encoded_data)"
      ],
      "metadata": {
        "colab": {
          "base_uri": "https://localhost:8080/"
        },
        "id": "28qsNlwpox-T",
        "outputId": "21d851b2-bb53-44d2-bf93-fe61acb1725b"
      },
      "execution_count": null,
      "outputs": [
        {
          "output_type": "stream",
          "name": "stdout",
          "text": [
            "  prefered_payment_method  Debit_card  Electronic_wallet  credit_card\n",
            "0             credit_card           0                  0            1\n",
            "1              Debit_card           1                  0            0\n",
            "2           Bank_transfer           0                  0            0\n",
            "3       Electronic_wallet           0                  1            0\n"
          ]
        }
      ]
    },
    {
      "cell_type": "markdown",
      "source": [
        "Day 1 - Task 3 :\n",
        "You are currently involved in a machine learning project focused on predicting house prices using a variety of features. However, the dataset you are working with contains missing values for some of these features. Specifically, the \"LotArea\" feature has missing values that need to be addressed before training your model. To handle this issue, you need to implement a strategy for dealing with the missing values in the \"LotArea\" feature."
      ],
      "metadata": {
        "id": "C0ulnrRG0W8x"
      }
    },
    {
      "cell_type": "code",
      "source": [
        "from google.colab import files\n",
        "uploaded = files.upload()"
      ],
      "metadata": {
        "id": "L6kiCbhAznvo",
        "colab": {
          "base_uri": "https://localhost:8080/",
          "height": 73
        },
        "outputId": "a04c64be-35fd-412a-fe94-aac433b38cef"
      },
      "execution_count": null,
      "outputs": [
        {
          "output_type": "display_data",
          "data": {
            "text/plain": [
              "<IPython.core.display.HTML object>"
            ],
            "text/html": [
              "\n",
              "     <input type=\"file\" id=\"files-6ba53cd1-6d53-43c5-85fc-16478a850bd4\" name=\"files[]\" multiple disabled\n",
              "        style=\"border:none\" />\n",
              "     <output id=\"result-6ba53cd1-6d53-43c5-85fc-16478a850bd4\">\n",
              "      Upload widget is only available when the cell has been executed in the\n",
              "      current browser session. Please rerun this cell to enable.\n",
              "      </output>\n",
              "      <script>// Copyright 2017 Google LLC\n",
              "//\n",
              "// Licensed under the Apache License, Version 2.0 (the \"License\");\n",
              "// you may not use this file except in compliance with the License.\n",
              "// You may obtain a copy of the License at\n",
              "//\n",
              "//      http://www.apache.org/licenses/LICENSE-2.0\n",
              "//\n",
              "// Unless required by applicable law or agreed to in writing, software\n",
              "// distributed under the License is distributed on an \"AS IS\" BASIS,\n",
              "// WITHOUT WARRANTIES OR CONDITIONS OF ANY KIND, either express or implied.\n",
              "// See the License for the specific language governing permissions and\n",
              "// limitations under the License.\n",
              "\n",
              "/**\n",
              " * @fileoverview Helpers for google.colab Python module.\n",
              " */\n",
              "(function(scope) {\n",
              "function span(text, styleAttributes = {}) {\n",
              "  const element = document.createElement('span');\n",
              "  element.textContent = text;\n",
              "  for (const key of Object.keys(styleAttributes)) {\n",
              "    element.style[key] = styleAttributes[key];\n",
              "  }\n",
              "  return element;\n",
              "}\n",
              "\n",
              "// Max number of bytes which will be uploaded at a time.\n",
              "const MAX_PAYLOAD_SIZE = 100 * 1024;\n",
              "\n",
              "function _uploadFiles(inputId, outputId) {\n",
              "  const steps = uploadFilesStep(inputId, outputId);\n",
              "  const outputElement = document.getElementById(outputId);\n",
              "  // Cache steps on the outputElement to make it available for the next call\n",
              "  // to uploadFilesContinue from Python.\n",
              "  outputElement.steps = steps;\n",
              "\n",
              "  return _uploadFilesContinue(outputId);\n",
              "}\n",
              "\n",
              "// This is roughly an async generator (not supported in the browser yet),\n",
              "// where there are multiple asynchronous steps and the Python side is going\n",
              "// to poll for completion of each step.\n",
              "// This uses a Promise to block the python side on completion of each step,\n",
              "// then passes the result of the previous step as the input to the next step.\n",
              "function _uploadFilesContinue(outputId) {\n",
              "  const outputElement = document.getElementById(outputId);\n",
              "  const steps = outputElement.steps;\n",
              "\n",
              "  const next = steps.next(outputElement.lastPromiseValue);\n",
              "  return Promise.resolve(next.value.promise).then((value) => {\n",
              "    // Cache the last promise value to make it available to the next\n",
              "    // step of the generator.\n",
              "    outputElement.lastPromiseValue = value;\n",
              "    return next.value.response;\n",
              "  });\n",
              "}\n",
              "\n",
              "/**\n",
              " * Generator function which is called between each async step of the upload\n",
              " * process.\n",
              " * @param {string} inputId Element ID of the input file picker element.\n",
              " * @param {string} outputId Element ID of the output display.\n",
              " * @return {!Iterable<!Object>} Iterable of next steps.\n",
              " */\n",
              "function* uploadFilesStep(inputId, outputId) {\n",
              "  const inputElement = document.getElementById(inputId);\n",
              "  inputElement.disabled = false;\n",
              "\n",
              "  const outputElement = document.getElementById(outputId);\n",
              "  outputElement.innerHTML = '';\n",
              "\n",
              "  const pickedPromise = new Promise((resolve) => {\n",
              "    inputElement.addEventListener('change', (e) => {\n",
              "      resolve(e.target.files);\n",
              "    });\n",
              "  });\n",
              "\n",
              "  const cancel = document.createElement('button');\n",
              "  inputElement.parentElement.appendChild(cancel);\n",
              "  cancel.textContent = 'Cancel upload';\n",
              "  const cancelPromise = new Promise((resolve) => {\n",
              "    cancel.onclick = () => {\n",
              "      resolve(null);\n",
              "    };\n",
              "  });\n",
              "\n",
              "  // Wait for the user to pick the files.\n",
              "  const files = yield {\n",
              "    promise: Promise.race([pickedPromise, cancelPromise]),\n",
              "    response: {\n",
              "      action: 'starting',\n",
              "    }\n",
              "  };\n",
              "\n",
              "  cancel.remove();\n",
              "\n",
              "  // Disable the input element since further picks are not allowed.\n",
              "  inputElement.disabled = true;\n",
              "\n",
              "  if (!files) {\n",
              "    return {\n",
              "      response: {\n",
              "        action: 'complete',\n",
              "      }\n",
              "    };\n",
              "  }\n",
              "\n",
              "  for (const file of files) {\n",
              "    const li = document.createElement('li');\n",
              "    li.append(span(file.name, {fontWeight: 'bold'}));\n",
              "    li.append(span(\n",
              "        `(${file.type || 'n/a'}) - ${file.size} bytes, ` +\n",
              "        `last modified: ${\n",
              "            file.lastModifiedDate ? file.lastModifiedDate.toLocaleDateString() :\n",
              "                                    'n/a'} - `));\n",
              "    const percent = span('0% done');\n",
              "    li.appendChild(percent);\n",
              "\n",
              "    outputElement.appendChild(li);\n",
              "\n",
              "    const fileDataPromise = new Promise((resolve) => {\n",
              "      const reader = new FileReader();\n",
              "      reader.onload = (e) => {\n",
              "        resolve(e.target.result);\n",
              "      };\n",
              "      reader.readAsArrayBuffer(file);\n",
              "    });\n",
              "    // Wait for the data to be ready.\n",
              "    let fileData = yield {\n",
              "      promise: fileDataPromise,\n",
              "      response: {\n",
              "        action: 'continue',\n",
              "      }\n",
              "    };\n",
              "\n",
              "    // Use a chunked sending to avoid message size limits. See b/62115660.\n",
              "    let position = 0;\n",
              "    do {\n",
              "      const length = Math.min(fileData.byteLength - position, MAX_PAYLOAD_SIZE);\n",
              "      const chunk = new Uint8Array(fileData, position, length);\n",
              "      position += length;\n",
              "\n",
              "      const base64 = btoa(String.fromCharCode.apply(null, chunk));\n",
              "      yield {\n",
              "        response: {\n",
              "          action: 'append',\n",
              "          file: file.name,\n",
              "          data: base64,\n",
              "        },\n",
              "      };\n",
              "\n",
              "      let percentDone = fileData.byteLength === 0 ?\n",
              "          100 :\n",
              "          Math.round((position / fileData.byteLength) * 100);\n",
              "      percent.textContent = `${percentDone}% done`;\n",
              "\n",
              "    } while (position < fileData.byteLength);\n",
              "  }\n",
              "\n",
              "  // All done.\n",
              "  yield {\n",
              "    response: {\n",
              "      action: 'complete',\n",
              "    }\n",
              "  };\n",
              "}\n",
              "\n",
              "scope.google = scope.google || {};\n",
              "scope.google.colab = scope.google.colab || {};\n",
              "scope.google.colab._files = {\n",
              "  _uploadFiles,\n",
              "  _uploadFilesContinue,\n",
              "};\n",
              "})(self);\n",
              "</script> "
            ]
          },
          "metadata": {}
        },
        {
          "output_type": "stream",
          "name": "stdout",
          "text": [
            "Saving house_prices_dataset.csv to house_prices_dataset.csv\n"
          ]
        }
      ]
    },
    {
      "cell_type": "code",
      "source": [
        "import pandas as pd\n",
        "data = pd.read_csv(\"house_prices_dataset.csv\")"
      ],
      "metadata": {
        "id": "Ce0dWEi4sXQn"
      },
      "execution_count": null,
      "outputs": []
    },
    {
      "cell_type": "code",
      "source": [
        "data.isnull().sum()"
      ],
      "metadata": {
        "colab": {
          "base_uri": "https://localhost:8080/"
        },
        "id": "HbgFyHwYtC56",
        "outputId": "0fb11a36-70c7-4c74-adca-e73c748eb211"
      },
      "execution_count": null,
      "outputs": [
        {
          "output_type": "execute_result",
          "data": {
            "text/plain": [
              "Id                       0\n",
              "Neighborhood             0\n",
              "LotFrontage            259\n",
              "LotArea                 38\n",
              "number of bedrooms       1\n",
              "Street                   0\n",
              "Alley                 1369\n",
              "OverallQual              0\n",
              "OverallCond              0\n",
              "Date                     0\n",
              "BsmtCond                37\n",
              "BsmtExposure            38\n",
              "BsmtFinType1            37\n",
              "BsmtFinSF1               0\n",
              "BsmtFinType2            38\n",
              "BsmtFinSF2               0\n",
              "BsmtUnfSF                0\n",
              "SquareFootage            0\n",
              "Heating                  0\n",
              "HeatingQC                0\n",
              "SaleType                 0\n",
              "SaleCondition            0\n",
              "Price                    0\n",
              "dtype: int64"
            ]
          },
          "metadata": {},
          "execution_count": 58
        }
      ]
    },
    {
      "cell_type": "code",
      "source": [
        "missing_values_count = data['LotArea'].isnull().sum()\n",
        "print(\"Missing values count in LotArea:\", missing_values_count)"
      ],
      "metadata": {
        "colab": {
          "base_uri": "https://localhost:8080/"
        },
        "id": "m0GO-pXkubov",
        "outputId": "93e90408-e7e1-4c09-965a-20171edba4b2"
      },
      "execution_count": null,
      "outputs": [
        {
          "output_type": "stream",
          "name": "stdout",
          "text": [
            "Missing values count in LotArea: 38\n"
          ]
        }
      ]
    },
    {
      "cell_type": "code",
      "source": [
        "lot_area_mean = data['LotArea'].mean()\n",
        "print(lot_area_mean)"
      ],
      "metadata": {
        "colab": {
          "base_uri": "https://localhost:8080/"
        },
        "id": "FfR9I0tYvDQv",
        "outputId": "3679d4f1-0c6c-4a68-9428-981d378ef0f7"
      },
      "execution_count": null,
      "outputs": [
        {
          "output_type": "stream",
          "name": "stdout",
          "text": [
            "10501.028129395218\n"
          ]
        }
      ]
    },
    {
      "cell_type": "code",
      "source": [
        "data.fillna(value=data[\"LotArea\"].mean(),inplace=True)"
      ],
      "metadata": {
        "id": "a6BdQV3v0jBU"
      },
      "execution_count": null,
      "outputs": []
    },
    {
      "cell_type": "code",
      "source": [
        "dat_without_null= data[\"LotArea\"].isnull().sum()\n",
        "print(dat_without_null)"
      ],
      "metadata": {
        "colab": {
          "base_uri": "https://localhost:8080/"
        },
        "id": "8M4Mrwjc3EY0",
        "outputId": "4267b31b-c419-42a9-a17a-dabfff585bb4"
      },
      "execution_count": null,
      "outputs": [
        {
          "output_type": "stream",
          "name": "stdout",
          "text": [
            "0\n"
          ]
        }
      ]
    },
    {
      "cell_type": "markdown",
      "source": [
        "Day 1 - Task 4 :\n",
        "You are currently engaged in a machine learning project that aims to predict customer churn for a telecommunications company. Within the dataset you are working with, one of the features available is the customer's age, which is a continuous variable. However, your machine learning algorithm necessitates the age feature to be discretized into distinct age groups. To address this requirement, you have decided to implement a strategy that discretizes the age feature into three groups: \"Young,\" \"Adult,\" and \"Senior.\""
      ],
      "metadata": {
        "id": "28dWjYpD4SBc"
      }
    },
    {
      "cell_type": "code",
      "source": [
        "from google.colab import files\n",
        "uploaded = files.upload()"
      ],
      "metadata": {
        "colab": {
          "base_uri": "https://localhost:8080/",
          "height": 73
        },
        "id": "0pNBX_br4om3",
        "outputId": "6da36e7b-9750-47f4-8868-a55ab72706af"
      },
      "execution_count": null,
      "outputs": [
        {
          "output_type": "display_data",
          "data": {
            "text/plain": [
              "<IPython.core.display.HTML object>"
            ],
            "text/html": [
              "\n",
              "     <input type=\"file\" id=\"files-684faa28-cc90-42cc-9d8e-64763ea653b2\" name=\"files[]\" multiple disabled\n",
              "        style=\"border:none\" />\n",
              "     <output id=\"result-684faa28-cc90-42cc-9d8e-64763ea653b2\">\n",
              "      Upload widget is only available when the cell has been executed in the\n",
              "      current browser session. Please rerun this cell to enable.\n",
              "      </output>\n",
              "      <script>// Copyright 2017 Google LLC\n",
              "//\n",
              "// Licensed under the Apache License, Version 2.0 (the \"License\");\n",
              "// you may not use this file except in compliance with the License.\n",
              "// You may obtain a copy of the License at\n",
              "//\n",
              "//      http://www.apache.org/licenses/LICENSE-2.0\n",
              "//\n",
              "// Unless required by applicable law or agreed to in writing, software\n",
              "// distributed under the License is distributed on an \"AS IS\" BASIS,\n",
              "// WITHOUT WARRANTIES OR CONDITIONS OF ANY KIND, either express or implied.\n",
              "// See the License for the specific language governing permissions and\n",
              "// limitations under the License.\n",
              "\n",
              "/**\n",
              " * @fileoverview Helpers for google.colab Python module.\n",
              " */\n",
              "(function(scope) {\n",
              "function span(text, styleAttributes = {}) {\n",
              "  const element = document.createElement('span');\n",
              "  element.textContent = text;\n",
              "  for (const key of Object.keys(styleAttributes)) {\n",
              "    element.style[key] = styleAttributes[key];\n",
              "  }\n",
              "  return element;\n",
              "}\n",
              "\n",
              "// Max number of bytes which will be uploaded at a time.\n",
              "const MAX_PAYLOAD_SIZE = 100 * 1024;\n",
              "\n",
              "function _uploadFiles(inputId, outputId) {\n",
              "  const steps = uploadFilesStep(inputId, outputId);\n",
              "  const outputElement = document.getElementById(outputId);\n",
              "  // Cache steps on the outputElement to make it available for the next call\n",
              "  // to uploadFilesContinue from Python.\n",
              "  outputElement.steps = steps;\n",
              "\n",
              "  return _uploadFilesContinue(outputId);\n",
              "}\n",
              "\n",
              "// This is roughly an async generator (not supported in the browser yet),\n",
              "// where there are multiple asynchronous steps and the Python side is going\n",
              "// to poll for completion of each step.\n",
              "// This uses a Promise to block the python side on completion of each step,\n",
              "// then passes the result of the previous step as the input to the next step.\n",
              "function _uploadFilesContinue(outputId) {\n",
              "  const outputElement = document.getElementById(outputId);\n",
              "  const steps = outputElement.steps;\n",
              "\n",
              "  const next = steps.next(outputElement.lastPromiseValue);\n",
              "  return Promise.resolve(next.value.promise).then((value) => {\n",
              "    // Cache the last promise value to make it available to the next\n",
              "    // step of the generator.\n",
              "    outputElement.lastPromiseValue = value;\n",
              "    return next.value.response;\n",
              "  });\n",
              "}\n",
              "\n",
              "/**\n",
              " * Generator function which is called between each async step of the upload\n",
              " * process.\n",
              " * @param {string} inputId Element ID of the input file picker element.\n",
              " * @param {string} outputId Element ID of the output display.\n",
              " * @return {!Iterable<!Object>} Iterable of next steps.\n",
              " */\n",
              "function* uploadFilesStep(inputId, outputId) {\n",
              "  const inputElement = document.getElementById(inputId);\n",
              "  inputElement.disabled = false;\n",
              "\n",
              "  const outputElement = document.getElementById(outputId);\n",
              "  outputElement.innerHTML = '';\n",
              "\n",
              "  const pickedPromise = new Promise((resolve) => {\n",
              "    inputElement.addEventListener('change', (e) => {\n",
              "      resolve(e.target.files);\n",
              "    });\n",
              "  });\n",
              "\n",
              "  const cancel = document.createElement('button');\n",
              "  inputElement.parentElement.appendChild(cancel);\n",
              "  cancel.textContent = 'Cancel upload';\n",
              "  const cancelPromise = new Promise((resolve) => {\n",
              "    cancel.onclick = () => {\n",
              "      resolve(null);\n",
              "    };\n",
              "  });\n",
              "\n",
              "  // Wait for the user to pick the files.\n",
              "  const files = yield {\n",
              "    promise: Promise.race([pickedPromise, cancelPromise]),\n",
              "    response: {\n",
              "      action: 'starting',\n",
              "    }\n",
              "  };\n",
              "\n",
              "  cancel.remove();\n",
              "\n",
              "  // Disable the input element since further picks are not allowed.\n",
              "  inputElement.disabled = true;\n",
              "\n",
              "  if (!files) {\n",
              "    return {\n",
              "      response: {\n",
              "        action: 'complete',\n",
              "      }\n",
              "    };\n",
              "  }\n",
              "\n",
              "  for (const file of files) {\n",
              "    const li = document.createElement('li');\n",
              "    li.append(span(file.name, {fontWeight: 'bold'}));\n",
              "    li.append(span(\n",
              "        `(${file.type || 'n/a'}) - ${file.size} bytes, ` +\n",
              "        `last modified: ${\n",
              "            file.lastModifiedDate ? file.lastModifiedDate.toLocaleDateString() :\n",
              "                                    'n/a'} - `));\n",
              "    const percent = span('0% done');\n",
              "    li.appendChild(percent);\n",
              "\n",
              "    outputElement.appendChild(li);\n",
              "\n",
              "    const fileDataPromise = new Promise((resolve) => {\n",
              "      const reader = new FileReader();\n",
              "      reader.onload = (e) => {\n",
              "        resolve(e.target.result);\n",
              "      };\n",
              "      reader.readAsArrayBuffer(file);\n",
              "    });\n",
              "    // Wait for the data to be ready.\n",
              "    let fileData = yield {\n",
              "      promise: fileDataPromise,\n",
              "      response: {\n",
              "        action: 'continue',\n",
              "      }\n",
              "    };\n",
              "\n",
              "    // Use a chunked sending to avoid message size limits. See b/62115660.\n",
              "    let position = 0;\n",
              "    do {\n",
              "      const length = Math.min(fileData.byteLength - position, MAX_PAYLOAD_SIZE);\n",
              "      const chunk = new Uint8Array(fileData, position, length);\n",
              "      position += length;\n",
              "\n",
              "      const base64 = btoa(String.fromCharCode.apply(null, chunk));\n",
              "      yield {\n",
              "        response: {\n",
              "          action: 'append',\n",
              "          file: file.name,\n",
              "          data: base64,\n",
              "        },\n",
              "      };\n",
              "\n",
              "      let percentDone = fileData.byteLength === 0 ?\n",
              "          100 :\n",
              "          Math.round((position / fileData.byteLength) * 100);\n",
              "      percent.textContent = `${percentDone}% done`;\n",
              "\n",
              "    } while (position < fileData.byteLength);\n",
              "  }\n",
              "\n",
              "  // All done.\n",
              "  yield {\n",
              "    response: {\n",
              "      action: 'complete',\n",
              "    }\n",
              "  };\n",
              "}\n",
              "\n",
              "scope.google = scope.google || {};\n",
              "scope.google.colab = scope.google.colab || {};\n",
              "scope.google.colab._files = {\n",
              "  _uploadFiles,\n",
              "  _uploadFilesContinue,\n",
              "};\n",
              "})(self);\n",
              "</script> "
            ]
          },
          "metadata": {}
        },
        {
          "output_type": "stream",
          "name": "stdout",
          "text": [
            "Saving customer_churn.csv to customer_churn.csv\n"
          ]
        }
      ]
    },
    {
      "cell_type": "code",
      "source": [
        "import pandas as pd\n",
        "\n",
        "# Read the CSV data\n",
        "data = pd.read_csv(\"customer_churn.csv\")\n",
        "\n",
        "# Define age groups with square brackets\n",
        "age_groups = {\n",
        "    \"young\": [18, 35],\n",
        "    \"Adult\": [36, 55],\n",
        "    \"Senior\": [56, 100]\n",
        "}\n",
        "\n",
        "# Calculate age groups and add 'AgeGroup' column\n",
        "data['AgeGroup'] = pd.cut(data['Age'],\n",
        "                          bins=[0] + [age_group[1] for age_group in age_groups.values()],\n",
        "                          labels=age_groups.keys())\n",
        "\n",
        "# Print the updated DataFrame\n",
        "print(data[[\"Age\",\"AgeGroup\"]])\n"
      ],
      "metadata": {
        "id": "pKmRVOwB5ftC",
        "colab": {
          "base_uri": "https://localhost:8080/"
        },
        "outputId": "e2b66ac6-37ea-4c44-8441-91bf3f3459f7"
      },
      "execution_count": null,
      "outputs": [
        {
          "output_type": "stream",
          "name": "stdout",
          "text": [
            "      Age AgeGroup\n",
            "0    42.0    Adult\n",
            "1    41.0    Adult\n",
            "2    38.0    Adult\n",
            "3    42.0    Adult\n",
            "4    37.0    Adult\n",
            "..    ...      ...\n",
            "895  42.0    Adult\n",
            "896  52.0    Adult\n",
            "897  45.0    Adult\n",
            "898  51.0    Adult\n",
            "899  39.0    Adult\n",
            "\n",
            "[900 rows x 2 columns]\n"
          ]
        }
      ]
    }
  ]
}